{
 "cells": [
  {
   "cell_type": "code",
   "execution_count": 2,
   "metadata": {},
   "outputs": [
    {
     "name": "stdout",
     "output_type": "stream",
     "text": [
      "[0 1 2 3 4 5 6 7 8 9]\n"
     ]
    }
   ],
   "source": [
    "import numpy as np\n",
    "\n",
    "a = np.arange(10) ## like embeded function in python # chainer numpy intro = array(range(10))\n",
    "\n",
    "print(a)"
   ]
  },
  {
   "cell_type": "code",
   "execution_count": 6,
   "metadata": {},
   "outputs": [
    {
     "name": "stdout",
     "output_type": "stream",
     "text": [
      "[[0 1 2 3 4]\n",
      " [5 6 7 8 9]]\n"
     ]
    }
   ],
   "source": [
    "a2 = np.arange(10).reshape([2,5])\n",
    "print(a2)"
   ]
  },
  {
   "cell_type": "code",
   "execution_count": 13,
   "metadata": {},
   "outputs": [
    {
     "name": "stdout",
     "output_type": "stream",
     "text": [
      "func test:  180\n",
      "y\n"
     ]
    }
   ],
   "source": [
    "import random\n",
    "## def exercise\n",
    "def randomf(x1, x2):\n",
    "    y = random.randint(0,10)*x1*x2\n",
    "    return y \n",
    "\n",
    "\n",
    "n1 = 10\n",
    "n2 = 3\n",
    "print(\"func test: \", randomf(n1, n2))\n"
   ]
  },
  {
   "cell_type": "code",
   "execution_count": 11,
   "metadata": {},
   "outputs": [
    {
     "name": "stdout",
     "output_type": "stream",
     "text": [
      "my name is ryota\n"
     ]
    }
   ],
   "source": [
    "## char test\n",
    "str = \"my name is ryota\"\n",
    "print(str[1])  #y\n",
    "\n",
    "#str = \"your name is Wan mingwue whose chinese girl I like\"\n",
    "print(str)"
   ]
  },
  {
   "cell_type": "code",
   "execution_count": 23,
   "metadata": {},
   "outputs": [
    {
     "name": "stdout",
     "output_type": "stream",
     "text": [
      ">>3\n",
      "3\n",
      "-f\n",
      "C:\\Users\\jaistRT\\AppData\\Roaming\\jupyter\\runtime\\kernel-056b3733-9042-431a-ac46-fbe82d366447.json\n"
     ]
    }
   ],
   "source": [
    "# input\n",
    "io1 = input(\">>\")\n",
    "\n",
    "print(io1)\n",
    "\n",
    "# arg\n",
    "import sys\n",
    "args = sys.argv\n",
    "\n",
    "## from jupyter, unknow responce\n",
    "print(args[1])\n",
    "print(args[2])\n"
   ]
  },
  {
   "cell_type": "code",
   "execution_count": 26,
   "metadata": {},
   "outputs": [
    {
     "name": "stdout",
     "output_type": "stream",
     "text": [
      "サイト開設 111 日目！ abc\n"
     ]
    }
   ],
   "source": [
    "#format print \n",
    "print (\"サイト開設 %d 日目！ %s\" %(111, \"abc\"))\n"
   ]
  },
  {
   "cell_type": "code",
   "execution_count": 32,
   "metadata": {},
   "outputs": [
    {
     "name": "stdout",
     "output_type": "stream",
     "text": [
      "[12, 14, 16, 18, 20]\n"
     ]
    }
   ],
   "source": [
    "# list experss\n",
    "\n",
    "#list multi operate\n",
    "\n",
    "\n",
    "list1 = [3+a+b for a,b in zip(range(5,10), range(4,9))]\n",
    "print(list1)"
   ]
  },
  {
   "cell_type": "code",
   "execution_count": 29,
   "metadata": {
    "collapsed": true
   },
   "outputs": [],
   "source": [
    "#(diary)"
   ]
  },
  {
   "cell_type": "code",
   "execution_count": null,
   "metadata": {
    "collapsed": true
   },
   "outputs": [],
   "source": []
  }
 ],
 "metadata": {
  "kernelspec": {
   "display_name": "Python 3",
   "language": "python",
   "name": "python3"
  },
  "language_info": {
   "codemirror_mode": {
    "name": "ipython",
    "version": 3
   },
   "file_extension": ".py",
   "mimetype": "text/x-python",
   "name": "python",
   "nbconvert_exporter": "python",
   "pygments_lexer": "ipython3",
   "version": "3.5.3"
  }
 },
 "nbformat": 4,
 "nbformat_minor": 2
}
